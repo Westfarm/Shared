{
 "cells": [
  {
   "cell_type": "markdown",
   "id": "142c3301",
   "metadata": {},
   "source": [
    "# Assignment 2: Machine Learning"
   ]
  },
  {
   "cell_type": "markdown",
   "id": "05604f28",
   "metadata": {},
   "source": [
    "In this assignment we are looking at case 1, predicting stock market price for Tesla. As we are interested in predicting the spesific price for a given time, it would make more sense to use a regression based algorithm. However if we were trying to predict wether or not the price would rise or fall we could use a classification model to classify an incline or decline in price given a time period. But the task is to predict value of stock for a spesific point in time, so we'll apply a regression model."
   ]
  },
  {
   "cell_type": "code",
   "execution_count": 212,
   "id": "2bb6d996",
   "metadata": {},
   "outputs": [],
   "source": [
    "import matplotlib.pyplot as plt\n",
    "import numpy as np\n",
    "import pandas as pd\n",
    "import datetime as dt\n",
    "from sklearn import linear_model\n",
    "from sklearn.model_selection import train_test_split\n",
    "from sklearn.linear_model import LinearRegression\n",
    "from sklearn import metrics"
   ]
  },
  {
   "cell_type": "code",
   "execution_count": 213,
   "id": "740def11",
   "metadata": {},
   "outputs": [
    {
     "data": {
      "text/html": [
       "<div>\n",
       "<style scoped>\n",
       "    .dataframe tbody tr th:only-of-type {\n",
       "        vertical-align: middle;\n",
       "    }\n",
       "\n",
       "    .dataframe tbody tr th {\n",
       "        vertical-align: top;\n",
       "    }\n",
       "\n",
       "    .dataframe thead th {\n",
       "        text-align: right;\n",
       "    }\n",
       "</style>\n",
       "<table border=\"1\" class=\"dataframe\">\n",
       "  <thead>\n",
       "    <tr style=\"text-align: right;\">\n",
       "      <th></th>\n",
       "      <th>Date</th>\n",
       "      <th>Open</th>\n",
       "      <th>High</th>\n",
       "      <th>Low</th>\n",
       "      <th>Close</th>\n",
       "      <th>Adj Close</th>\n",
       "      <th>Volume</th>\n",
       "    </tr>\n",
       "  </thead>\n",
       "  <tbody>\n",
       "    <tr>\n",
       "      <th>0</th>\n",
       "      <td>2010-06-29</td>\n",
       "      <td>3.800</td>\n",
       "      <td>5.000</td>\n",
       "      <td>3.508</td>\n",
       "      <td>4.778</td>\n",
       "      <td>4.778</td>\n",
       "      <td>93831500</td>\n",
       "    </tr>\n",
       "    <tr>\n",
       "      <th>1</th>\n",
       "      <td>2010-06-30</td>\n",
       "      <td>5.158</td>\n",
       "      <td>6.084</td>\n",
       "      <td>4.660</td>\n",
       "      <td>4.766</td>\n",
       "      <td>4.766</td>\n",
       "      <td>85935500</td>\n",
       "    </tr>\n",
       "    <tr>\n",
       "      <th>2</th>\n",
       "      <td>2010-07-01</td>\n",
       "      <td>5.000</td>\n",
       "      <td>5.184</td>\n",
       "      <td>4.054</td>\n",
       "      <td>4.392</td>\n",
       "      <td>4.392</td>\n",
       "      <td>41094000</td>\n",
       "    </tr>\n",
       "    <tr>\n",
       "      <th>3</th>\n",
       "      <td>2010-07-02</td>\n",
       "      <td>4.600</td>\n",
       "      <td>4.620</td>\n",
       "      <td>3.742</td>\n",
       "      <td>3.840</td>\n",
       "      <td>3.840</td>\n",
       "      <td>25699000</td>\n",
       "    </tr>\n",
       "    <tr>\n",
       "      <th>4</th>\n",
       "      <td>2010-07-06</td>\n",
       "      <td>4.000</td>\n",
       "      <td>4.000</td>\n",
       "      <td>3.166</td>\n",
       "      <td>3.222</td>\n",
       "      <td>3.222</td>\n",
       "      <td>34334500</td>\n",
       "    </tr>\n",
       "  </tbody>\n",
       "</table>\n",
       "</div>"
      ],
      "text/plain": [
       "         Date   Open   High    Low  Close  Adj Close    Volume\n",
       "0  2010-06-29  3.800  5.000  3.508  4.778      4.778  93831500\n",
       "1  2010-06-30  5.158  6.084  4.660  4.766      4.766  85935500\n",
       "2  2010-07-01  5.000  5.184  4.054  4.392      4.392  41094000\n",
       "3  2010-07-02  4.600  4.620  3.742  3.840      3.840  25699000\n",
       "4  2010-07-06  4.000  4.000  3.166  3.222      3.222  34334500"
      ]
     },
     "execution_count": 213,
     "metadata": {},
     "output_type": "execute_result"
    }
   ],
   "source": [
    "#importing data\n",
    "df=pd.read_csv(\"TSLA.csv\")\n",
    "df.head()"
   ]
  },
  {
   "cell_type": "code",
   "execution_count": 214,
   "id": "489d76ed",
   "metadata": {},
   "outputs": [],
   "source": [
    "#getting rid of NaN values\n",
    "df.replace(0, np.nan, inplace=True)\n",
    "df.dropna(inplace = True)\n",
    "\n",
    "#converting date from string to float\n",
    "df['Date']=pd.to_datetime(df['Date'])\n",
    "df['Date']=df['Date'].map(dt.datetime.toordinal)\n",
    "\n",
    "#defining values we want to run training on\n",
    "X = pd.DataFrame(df[\"Date\"]) \n",
    "y = pd.DataFrame(df[\"Close\"]) \n",
    "\n",
    "#Splitting data into training and test data. 80% train, 20% test\n",
    "X_train, X_test, y_train, y_test = train_test_split(X, y, test_size=0.2, random_state=42) "
   ]
  },
  {
   "cell_type": "code",
   "execution_count": 215,
   "id": "3e606527",
   "metadata": {},
   "outputs": [],
   "source": [
    "lr = LinearRegression().fit(X_train, y_train)  # perform linear regression\n",
    "\n",
    "Y_pred = lr.predict(X_train) #training data prediction\n",
    "Y_test_pred = lr.predict(X_test)   #predicting y_test values from x_test    "
   ]
  },
  {
   "cell_type": "markdown",
   "id": "94de6780",
   "metadata": {},
   "source": [
    "# Plotting graphs for trained model and test model"
   ]
  },
  {
   "cell_type": "code",
   "execution_count": 216,
   "id": "607f9582",
   "metadata": {},
   "outputs": [
    {
     "data": {
      "image/png": "[encoded data removed]",
      "text/plain": [
       "<Figure size 432x288 with 1 Axes>"
      ]
     },
     "metadata": {
      "needs_background": "light"
     },
     "output_type": "display_data"
    },
    {
     "name": "stdout",
     "output_type": "stream",
     "text": [
      "MSE = 20801.45043895163\n",
      "Score = 0.4104632393594554\n"
     ]
    }
   ],
   "source": [
    "#plotting results training\n",
    "date_fix = X_train[\"Date\"].apply(dt.datetime.fromordinal) #changing dates back to standard format\n",
    "plt.scatter(date_fix, y_train)             #scatter plot of dataset used for training\n",
    "plt.plot(date_fix, Y_pred, color='red')    #linear plot of predicted values in training data\n",
    "plt.xlabel(\"Date\")\n",
    "plt.ylabel(\"Price\")\n",
    "plt.show()  \n",
    "print( \"MSE = \"+str(metrics.mean_squared_error(y_train,Y_pred)))#Showing mean squared error\n",
    "print(\"Score = \"+str(lr.score(X_train, y_train)))               #Showing score"
   ]
  },
  {
   "cell_type": "code",
   "execution_count": 217,
   "id": "25f18a94",
   "metadata": {},
   "outputs": [
    {
     "data": {
      "image/png": "[encoded data removed]",
      "text/plain": [
       "<Figure size 432x288 with 1 Axes>"
      ]
     },
     "metadata": {
      "needs_background": "light"
     },
     "output_type": "display_data"
    },
    {
     "name": "stdout",
     "output_type": "stream",
     "text": [
      "MSE = 21703.90697246559\n",
      "Score = 0.413460104544645\n"
     ]
    }
   ],
   "source": [
    "#plotting results of test\n",
    "date_fix = X_test[\"Date\"].apply(dt.datetime.fromordinal)      \n",
    "\n",
    "plt.scatter(date_fix, y_test)               #scatter plot of test data  \n",
    "plt.plot(date_fix, Y_test_pred, color='red')   #linear plot of predicted values from test data\n",
    "plt.xlabel(\"Date\")\n",
    "plt.ylabel(\"Price\")\n",
    "plt.show()                                \n",
    "print( \"MSE = \"+str(metrics.mean_squared_error(y_test,Y_test_pred)))\n",
    "print(\"Score = \"+str(lr.score(X_test, y_test)))"
   ]
  },
  {
   "cell_type": "code",
   "execution_count": 235,
   "id": "b7a368ef",
   "metadata": {},
   "outputs": [
    {
     "name": "stdout",
     "output_type": "stream",
     "text": [
      "Actual Value for 02,23,2021: 698.84 USD. Predicted value: 659.5707852483029 USD.\n"
     ]
    }
   ],
   "source": [
    "Datein=dt.date(2021,2,23) #Chosen date \n",
    "DateinOrd=Datein.toordinal()  #changing to string format\n",
    "\n",
    "date_pred=lr.predict([[DateinOrd]])  #predicting value for date\n",
    "print(\"Actual Value for 02:23:2021: 698.84 USD. Predicted value:\", date_pred[0][0], \"USD.\")\n",
    "\n"
   ]
  },
  {
   "cell_type": "markdown",
   "id": "df9faf91",
   "metadata": {},
   "source": [
    "As we can see, our predicion using a linear regression model does not give a very accurate predictor for price given a spesific date with high volatility or large outliers. However, if we narrow the timeframe to just one year, we would expect to get a closer predicion."
   ]
  },
  {
   "cell_type": "code",
   "execution_count": 219,
   "id": "465ed781",
   "metadata": {},
   "outputs": [],
   "source": [
    "df2=pd.read_csv(\"TSLA2.csv\")   #importing dataset with values going back one year\n",
    "\n",
    "df2.replace(0, np.nan, inplace=True)\n",
    "df2.dropna(inplace = True)\n",
    "\n",
    "\n",
    "df2['Date']=pd.to_datetime(df2['Date'])\n",
    "df2['Date']=df2['Date'].map(dt.datetime.toordinal)\n",
    "\n",
    "\n",
    "X2 = pd.DataFrame(df2[\"Date\"]) \n",
    "y2 = pd.DataFrame(df2[\"Close\"]) \n",
    "\n",
    "X2_train, X2_test, y2_train, y2_test = train_test_split(X2, y2, test_size=0.2, random_state=42) "
   ]
  },
  {
   "cell_type": "code",
   "execution_count": 226,
   "id": "165d18b9",
   "metadata": {},
   "outputs": [],
   "source": [
    "lr = LinearRegression().fit(X2_train, y2_train) \n",
    "Y2_pred = lr.predict(X2_test)"
   ]
  },
  {
   "cell_type": "code",
   "execution_count": 221,
   "id": "8d8feace",
   "metadata": {},
   "outputs": [
    {
     "data": {
      "image/png": "[encoded data removed]",
      "text/plain": [
       "<Figure size 432x288 with 1 Axes>"
      ]
     },
     "metadata": {
      "needs_background": "light"
     },
     "output_type": "display_data"
    },
    {
     "name": "stdout",
     "output_type": "stream",
     "text": [
      "MSE = 10234.7315518291\n",
      "Score = 0.17079670456618923\n"
     ]
    }
   ],
   "source": [
    "date_fix = X2_test[\"Date\"].apply(dt.datetime.fromordinal)\n",
    "Y2_pred = lr.predict(X2_test)\n",
    "plt.scatter(date_fix, y2_test)             \n",
    "plt.plot(date_fix, Y2_pred, color='red')   \n",
    "plt.xlabel(\"Date\")\n",
    "plt.ylabel(\"Price\")\n",
    "plt.show()                                \n",
    "print( \"MSE = \"+str(metrics.mean_squared_error(y2_test,Y2_pred)))\n",
    "print(\"Score = \"+str(lr.score(X2_test, y2_test)))"
   ]
  },
  {
   "cell_type": "markdown",
   "id": "dff62aa0",
   "metadata": {},
   "source": [
    "We see the stock price prediction when using a single year yields a better MSE. A non-linear model would work better for this type of value prediction."
   ]
  }
 ],
 "metadata": {
  "kernelspec": {
   "display_name": "Python 3 (ipykernel)",
   "language": "python",
   "name": "python3"
  },
  "language_info": {
   "codemirror_mode": {
    "name": "ipython",
    "version": 3
   },
   "file_extension": ".py",
   "mimetype": "text/x-python",
   "name": "python",
   "nbconvert_exporter": "python",
   "pygments_lexer": "ipython3",
   "version": "3.8.11"
  }
 },
 "nbformat": 4,
 "nbformat_minor": 5
}
